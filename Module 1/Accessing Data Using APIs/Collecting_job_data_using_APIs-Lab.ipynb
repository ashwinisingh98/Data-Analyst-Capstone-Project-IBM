{
 "cells": [
  {
   "cell_type": "markdown",
   "metadata": {},
   "source": [
    "<center>\n",
    "    <img src=\"https://gitlab.com/ibm/skills-network/courses/placeholder101/-/raw/master/labs/module%201/images/IDSNlogo.png\" width=\"300\" alt=\"cognitiveclass.ai logo\"  />\n",
    "</center>\n"
   ]
  },
  {
   "cell_type": "markdown",
   "metadata": {},
   "source": [
    "# **Collecting Job Data Using APIs**\n"
   ]
  },
  {
   "cell_type": "markdown",
   "metadata": {},
   "source": [
    "Estimated time needed: **45 to 60** minutes\n"
   ]
  },
  {
   "cell_type": "markdown",
   "metadata": {},
   "source": [
    "## Objectives\n"
   ]
  },
  {
   "cell_type": "markdown",
   "metadata": {},
   "source": [
    "After completing this lab, you will be able to:\n"
   ]
  },
  {
   "cell_type": "markdown",
   "metadata": {},
   "source": [
    "*   Collect job data from GitHub Jobs API\n",
    "*   Store the collected data into an excel spreadsheet.\n"
   ]
  },
  {
   "cell_type": "markdown",
   "metadata": {},
   "source": [
    "## Warm-Up Exercise\n"
   ]
  },
  {
   "cell_type": "markdown",
   "metadata": {},
   "source": [
    "Before you attempt the actual lab, here is a fully solved warmup exercise that will help you to learn how to access an API.\n"
   ]
  },
  {
   "cell_type": "markdown",
   "metadata": {},
   "source": [
    "Using an API, let us find out who currently are on the International Space Station (ISS).<br> The API at [http://api.open-notify.org/astros.json](http://api.open-notify.org/astros.json?utm_medium=Exinfluencer\\&utm_source=Exinfluencer\\&utm_content=000026UJ\\&utm_term=10006555\\&utm_id=NA-SkillsNetwork-Channel-SkillsNetworkCoursesIBMDA0321ENSkillsNetwork21426264-2021-01-01\\&cm_mmc=Email_Newsletter-\\_-Developer_Ed%2BTech-\\_-WW_WW-\\_-SkillsNetwork-Courses-IBM-DA0321EN-SkillsNetwork-21426264\\&cm_mmca1=000026UJ\\&cm_mmca2=10006555\\&cm_mmca3=M12345678\\&cvosrc=email.Newsletter.M12345678\\&cvo_campaign=000026UJ) gives us the information of astronauts currently on ISS in json format.<br>\n",
    "You can read more about this API at [http://open-notify.org/Open-Notify-API/People-In-Space/](http://open-notify.org/Open-Notify-API/People-In-Space?utm_medium=Exinfluencer\\&utm_source=Exinfluencer\\&utm_content=000026UJ\\&utm_term=10006555\\&utm_id=NA-SkillsNetwork-Channel-SkillsNetworkCoursesIBMDA0321ENSkillsNetwork21426264-2021-01-01\\&cm_mmc=Email_Newsletter-\\_-Developer_Ed%2BTech-\\_-WW_WW-\\_-SkillsNetwork-Courses-IBM-DA0321EN-SkillsNetwork-21426264\\&cm_mmca1=000026UJ\\&cm_mmca2=10006555\\&cm_mmca3=M12345678\\&cvosrc=email.Newsletter.M12345678\\&cvo_campaign=000026UJ)\n"
   ]
  },
  {
   "cell_type": "code",
   "execution_count": 1,
   "metadata": {},
   "outputs": [],
   "source": [
    "import requests # you need this module to make an API call"
   ]
  },
  {
   "cell_type": "code",
   "execution_count": 2,
   "metadata": {},
   "outputs": [],
   "source": [
    "api_url = \"http://api.open-notify.org/astros.json\" # this url gives use the astronaut data"
   ]
  },
  {
   "cell_type": "code",
   "execution_count": 3,
   "metadata": {},
   "outputs": [],
   "source": [
    "response = requests.get(api_url) # Call the API using the get method and store the\n",
    "                                # output of the API call in a variable called response."
   ]
  },
  {
   "cell_type": "code",
   "execution_count": 4,
   "metadata": {},
   "outputs": [],
   "source": [
    "if response.ok:             # if all is well() no errors, no network timeouts)\n",
    "    data = response.json()  # store the result in json format in a variable called data\n",
    "                            # the variable data is of type dictionary."
   ]
  },
  {
   "cell_type": "code",
   "execution_count": 5,
   "metadata": {},
   "outputs": [
    {
     "name": "stdout",
     "output_type": "stream",
     "text": [
      "{'number': 10, 'people': [{'name': 'Oleg Artemyev', 'craft': 'ISS'}, {'name': 'Denis Matveev', 'craft': 'ISS'}, {'name': 'Sergey Korsakov', 'craft': 'ISS'}, {'name': 'Kjell Lindgren', 'craft': 'ISS'}, {'name': 'Bob Hines', 'craft': 'ISS'}, {'name': 'Samantha Cristoforetti', 'craft': 'ISS'}, {'name': 'Jessica Watkins', 'craft': 'ISS'}, {'name': 'Cai Xuzhe', 'craft': 'Tiangong'}, {'name': 'Chen Dong', 'craft': 'Tiangong'}, {'name': 'Liu Yang', 'craft': 'Tiangong'}], 'message': 'success'}\n"
     ]
    }
   ],
   "source": [
    "print(data)   # print the data just to check the output or for debugging"
   ]
  },
  {
   "cell_type": "markdown",
   "metadata": {},
   "source": [
    "Print the number of astronauts currently on ISS.\n"
   ]
  },
  {
   "cell_type": "code",
   "execution_count": 6,
   "metadata": {},
   "outputs": [
    {
     "name": "stdout",
     "output_type": "stream",
     "text": [
      "10\n"
     ]
    }
   ],
   "source": [
    "print(data.get('number'))"
   ]
  },
  {
   "cell_type": "markdown",
   "metadata": {},
   "source": [
    "Print the names of the astronauts currently on ISS.\n"
   ]
  },
  {
   "cell_type": "code",
   "execution_count": 7,
   "metadata": {},
   "outputs": [
    {
     "name": "stdout",
     "output_type": "stream",
     "text": [
      "There are 10 astronauts on ISS\n",
      "And their names are :\n",
      "Oleg Artemyev\n",
      "Denis Matveev\n",
      "Sergey Korsakov\n",
      "Kjell Lindgren\n",
      "Bob Hines\n",
      "Samantha Cristoforetti\n",
      "Jessica Watkins\n",
      "Cai Xuzhe\n",
      "Chen Dong\n",
      "Liu Yang\n"
     ]
    }
   ],
   "source": [
    "astronauts = data.get('people')\n",
    "print(\"There are {} astronauts on ISS\".format(len(astronauts)))\n",
    "print(\"And their names are :\")\n",
    "for astronaut in astronauts:\n",
    "    print(astronaut.get('name'))"
   ]
  },
  {
   "cell_type": "markdown",
   "metadata": {},
   "source": [
    "Hope the warmup was helpful. Good luck with your next lab!\n"
   ]
  },
  {
   "cell_type": "markdown",
   "metadata": {},
   "source": [
    "## Lab: Collect Jobs Data using GitHub Jobs API\n"
   ]
  },
  {
   "cell_type": "markdown",
   "metadata": {},
   "source": [
    "### Objective: Determine the number of jobs currently open for various technologies\n"
   ]
  },
  {
   "cell_type": "markdown",
   "metadata": {},
   "source": [
    "Collect the number of job postings for the following languages using the API:\n",
    "\n",
    "*   C\n",
    "*   C#\n",
    "*   C++\n",
    "*   Java\n",
    "*   JavaScript\n",
    "*   Python\n",
    "*   Scala\n",
    "*   Oracle\n",
    "*   SQL Server\n",
    "*   MySQL Server\n",
    "*   PostgreSQL\n",
    "*   MongoDB\n"
   ]
  },
  {
   "cell_type": "code",
   "execution_count": 8,
   "metadata": {},
   "outputs": [],
   "source": [
    "#Import required libraries\n",
    "import requests\n",
    "import pandas as pd"
   ]
  },
  {
   "cell_type": "code",
   "execution_count": 9,
   "metadata": {},
   "outputs": [],
   "source": [
    "baseurl = \"https://cf-courses-data.s3.us.cloud-object-storage.appdomain.cloud/IBM-DA0321EN-SkillsNetwork/labs/module%201/datasets/githubposting.json\""
   ]
  },
  {
   "cell_type": "code",
   "execution_count": 10,
   "metadata": {},
   "outputs": [],
   "source": [
    " response=requests.get(baseurl)"
   ]
  },
  {
   "cell_type": "code",
   "execution_count": 11,
   "metadata": {},
   "outputs": [
    {
     "data": {
      "text/plain": [
       "{'technology': {'0': 'java',\n",
       "  '1': 'C',\n",
       "  '2': 'C#',\n",
       "  '3': 'C++',\n",
       "  '4': 'Java',\n",
       "  '5': 'JavaScript',\n",
       "  '6': 'Python',\n",
       "  '7': 'Scala',\n",
       "  '8': 'Oracle',\n",
       "  '9': 'SQL Server',\n",
       "  '10': 'MySQL Server',\n",
       "  '11': 'PostgreSQL',\n",
       "  '12': 'MongoDB',\n",
       "  '13': 'java',\n",
       "  '14': 'C',\n",
       "  '15': 'C#',\n",
       "  '16': 'C++',\n",
       "  '17': 'Java',\n",
       "  '18': 'JavaScript',\n",
       "  '19': 'Python',\n",
       "  '20': 'Scala',\n",
       "  '21': 'Oracle',\n",
       "  '22': 'SQL Server',\n",
       "  '23': 'MySQL Server',\n",
       "  '24': 'PostgreSQL',\n",
       "  '25': 'MongoDB',\n",
       "  '26': 'C',\n",
       "  '27': 'MySQL Server',\n",
       "  '28': 'SQL Server',\n",
       "  '29': 'PostgreSQL',\n",
       "  '30': 'Java',\n",
       "  '31': 'PostgreSQL',\n",
       "  '32': 'Java',\n",
       "  '33': 'C',\n",
       "  '34': 'MongoDB',\n",
       "  '35': 'Oracle',\n",
       "  '36': 'PostgreSQL',\n",
       "  '37': 'MongoDB',\n",
       "  '38': 'MySQL Server',\n",
       "  '39': 'Java',\n",
       "  '40': 'JavaScript',\n",
       "  '41': 'Python',\n",
       "  '42': 'C',\n",
       "  '43': 'MongoDB',\n",
       "  '44': 'MySQL Server',\n",
       "  '45': 'PostgreSQL',\n",
       "  '46': 'Oracle',\n",
       "  '47': 'Java',\n",
       "  '48': 'JavaScript',\n",
       "  '49': 'Java',\n",
       "  '50': 'Java',\n",
       "  '51': 'MySQL Server',\n",
       "  '52': 'C++',\n",
       "  '53': 'JavaScript',\n",
       "  '54': 'MySQL Server',\n",
       "  '55': 'PostgreSQL',\n",
       "  '56': 'PostgreSQL',\n",
       "  '57': 'Java',\n",
       "  '58': 'Java',\n",
       "  '59': 'C#',\n",
       "  '60': 'Python',\n",
       "  '61': 'SQL Server',\n",
       "  '62': 'MySQL Server',\n",
       "  '63': 'Java',\n",
       "  '64': 'MySQL Server',\n",
       "  '65': 'PostgreSQL',\n",
       "  '66': 'Java',\n",
       "  '67': 'C#',\n",
       "  '68': 'PostgreSQL',\n",
       "  '69': 'Oracle',\n",
       "  '70': 'C#',\n",
       "  '71': 'C#',\n",
       "  '72': 'PostgreSQL',\n",
       "  '73': 'Java',\n",
       "  '74': 'JavaScript',\n",
       "  '75': 'Java',\n",
       "  '76': 'Oracle',\n",
       "  '77': 'MySQL Server',\n",
       "  '78': 'MySQL Server',\n",
       "  '79': 'MySQL Server',\n",
       "  '80': 'Java',\n",
       "  '81': 'Java',\n",
       "  '82': 'Oracle',\n",
       "  '83': 'JavaScript',\n",
       "  '84': 'PostgreSQL',\n",
       "  '85': 'MongoDB',\n",
       "  '86': 'Java',\n",
       "  '87': 'MongoDB',\n",
       "  '88': 'JavaScript',\n",
       "  '89': 'C++',\n",
       "  '90': 'Oracle',\n",
       "  '91': 'MongoDB',\n",
       "  '92': 'SQL Server',\n",
       "  '93': 'C++',\n",
       "  '94': 'Oracle',\n",
       "  '95': 'JavaScript',\n",
       "  '96': 'Java',\n",
       "  '97': 'java',\n",
       "  '98': 'MongoDB',\n",
       "  '99': 'C#',\n",
       "  '100': 'MySQL Server',\n",
       "  '101': 'PostgreSQL',\n",
       "  '102': 'MongoDB',\n",
       "  '103': 'java',\n",
       "  '104': 'Python',\n",
       "  '105': 'Java',\n",
       "  '106': 'MongoDB',\n",
       "  '107': 'MongoDB',\n",
       "  '108': 'C++',\n",
       "  '109': 'MySQL Server',\n",
       "  '110': 'Java',\n",
       "  '111': 'PostgreSQL',\n",
       "  '112': 'Python',\n",
       "  '113': 'java',\n",
       "  '114': 'SQL Server',\n",
       "  '115': 'Java',\n",
       "  '116': 'Python',\n",
       "  '117': 'JavaScript',\n",
       "  '118': 'PostgreSQL',\n",
       "  '119': 'PostgreSQL',\n",
       "  '120': 'C++',\n",
       "  '121': 'MySQL Server',\n",
       "  '122': 'MongoDB',\n",
       "  '123': 'C#',\n",
       "  '124': 'PostgreSQL',\n",
       "  '125': 'PostgreSQL',\n",
       "  '126': 'C++',\n",
       "  '127': 'Oracle',\n",
       "  '128': 'Python',\n",
       "  '129': 'JavaScript',\n",
       "  '130': 'MongoDB',\n",
       "  '131': 'PostgreSQL',\n",
       "  '132': 'MySQL Server',\n",
       "  '133': 'C#',\n",
       "  '134': 'MySQL Server',\n",
       "  '135': 'PostgreSQL',\n",
       "  '136': 'PostgreSQL',\n",
       "  '137': 'MySQL Server',\n",
       "  '138': 'Scala',\n",
       "  '139': 'C++',\n",
       "  '140': 'MongoDB',\n",
       "  '141': 'C++',\n",
       "  '142': 'MongoDB',\n",
       "  '143': 'Java',\n",
       "  '144': 'Java',\n",
       "  '145': 'java',\n",
       "  '146': 'SQL Server',\n",
       "  '147': 'Python',\n",
       "  '148': 'java',\n",
       "  '149': 'SQL Server',\n",
       "  '150': 'JavaScript',\n",
       "  '151': 'JavaScript',\n",
       "  '152': 'C#',\n",
       "  '153': 'JavaScript',\n",
       "  '154': 'Java',\n",
       "  '155': 'PostgreSQL',\n",
       "  '156': 'PostgreSQL',\n",
       "  '157': 'Java',\n",
       "  '158': 'C++',\n",
       "  '159': 'JavaScript',\n",
       "  '160': 'Java',\n",
       "  '161': 'Oracle',\n",
       "  '162': 'Python',\n",
       "  '163': 'Oracle',\n",
       "  '164': 'java',\n",
       "  '165': 'C#',\n",
       "  '166': 'Java',\n",
       "  '167': 'PostgreSQL',\n",
       "  '168': 'PostgreSQL',\n",
       "  '169': 'Python',\n",
       "  '170': 'Java',\n",
       "  '171': 'MySQL Server',\n",
       "  '172': 'C#',\n",
       "  '173': 'Python',\n",
       "  '174': 'Python',\n",
       "  '175': 'SQL Server',\n",
       "  '176': 'MongoDB',\n",
       "  '177': 'Java',\n",
       "  '178': 'C#',\n",
       "  '179': 'MongoDB',\n",
       "  '180': 'Oracle',\n",
       "  '181': 'Python',\n",
       "  '182': 'Scala',\n",
       "  '183': 'PostgreSQL',\n",
       "  '184': 'Scala',\n",
       "  '185': 'C#',\n",
       "  '186': 'Java',\n",
       "  '187': 'Java',\n",
       "  '188': 'C++',\n",
       "  '189': 'Python',\n",
       "  '190': 'MongoDB',\n",
       "  '191': 'Java',\n",
       "  '192': 'MongoDB',\n",
       "  '193': 'C++',\n",
       "  '194': 'PostgreSQL',\n",
       "  '195': 'Java',\n",
       "  '196': 'C#',\n",
       "  '197': 'MySQL Server',\n",
       "  '198': 'Oracle',\n",
       "  '199': 'Java',\n",
       "  '200': 'Java',\n",
       "  '201': 'MongoDB',\n",
       "  '202': 'Python',\n",
       "  '203': 'SQL Server',\n",
       "  '204': 'C',\n",
       "  '205': 'Oracle',\n",
       "  '206': 'Python',\n",
       "  '207': 'Python',\n",
       "  '208': 'MongoDB',\n",
       "  '209': 'Scala',\n",
       "  '210': 'PostgreSQL',\n",
       "  '211': 'Oracle',\n",
       "  '212': 'Java',\n",
       "  '213': 'MongoDB',\n",
       "  '214': 'C',\n",
       "  '215': 'MongoDB',\n",
       "  '216': 'Oracle',\n",
       "  '217': 'Python',\n",
       "  '218': 'Java',\n",
       "  '219': 'MySQL Server',\n",
       "  '220': 'JavaScript',\n",
       "  '221': 'PostgreSQL',\n",
       "  '222': 'Oracle',\n",
       "  '223': 'Python',\n",
       "  '224': 'Python',\n",
       "  '225': 'JavaScript',\n",
       "  '226': 'MongoDB',\n",
       "  '227': 'Java',\n",
       "  '228': 'MySQL Server',\n",
       "  '229': 'JavaScript',\n",
       "  '230': 'Java',\n",
       "  '231': 'Oracle',\n",
       "  '232': 'JavaScript',\n",
       "  '233': 'PostgreSQL',\n",
       "  '234': 'MySQL Server',\n",
       "  '235': 'MySQL Server',\n",
       "  '236': 'Oracle',\n",
       "  '237': 'Scala',\n",
       "  '238': 'Java',\n",
       "  '239': 'C#',\n",
       "  '240': 'Oracle',\n",
       "  '241': 'Oracle',\n",
       "  '242': 'java',\n",
       "  '243': 'PostgreSQL',\n",
       "  '244': 'MongoDB',\n",
       "  '245': 'PostgreSQL',\n",
       "  '246': 'MongoDB',\n",
       "  '247': 'Scala',\n",
       "  '248': 'MySQL Server',\n",
       "  '249': 'Oracle',\n",
       "  '250': 'Java',\n",
       "  '251': 'C#',\n",
       "  '252': 'PostgreSQL',\n",
       "  '253': 'MongoDB',\n",
       "  '254': 'Scala',\n",
       "  '255': 'JavaScript'},\n",
       " 'number of job posting': {'0': '1',\n",
       "  '1': '10',\n",
       "  '2': '1',\n",
       "  '3': '1',\n",
       "  '4': '2',\n",
       "  '5': '4',\n",
       "  '6': '1',\n",
       "  '7': '5',\n",
       "  '8': '0',\n",
       "  '9': '1',\n",
       "  '10': '0',\n",
       "  '11': '1',\n",
       "  '12': '0',\n",
       "  '13': '1',\n",
       "  '14': '20',\n",
       "  '15': '2',\n",
       "  '16': '3',\n",
       "  '17': '2',\n",
       "  '18': '3',\n",
       "  '19': '2',\n",
       "  '20': '7',\n",
       "  '21': '0',\n",
       "  '22': '1',\n",
       "  '23': '0',\n",
       "  '24': '1',\n",
       "  '25': '0',\n",
       "  '26': '26',\n",
       "  '27': '0',\n",
       "  '28': '1',\n",
       "  '29': '0',\n",
       "  '30': '2',\n",
       "  '31': '0',\n",
       "  '32': '2',\n",
       "  '33': '15',\n",
       "  '34': '0',\n",
       "  '35': '1',\n",
       "  '36': '0',\n",
       "  '37': '1',\n",
       "  '38': '0',\n",
       "  '39': '1',\n",
       "  '40': '2',\n",
       "  '41': '5',\n",
       "  '42': '40',\n",
       "  '43': '1',\n",
       "  '44': '0',\n",
       "  '45': '0',\n",
       "  '46': '1',\n",
       "  '47': '6',\n",
       "  '48': '4',\n",
       "  '49': '8',\n",
       "  '50': '1',\n",
       "  '51': '0',\n",
       "  '52': '2',\n",
       "  '53': '4',\n",
       "  '54': '0',\n",
       "  '55': '1',\n",
       "  '56': '1',\n",
       "  '57': '2',\n",
       "  '58': '3',\n",
       "  '59': '1',\n",
       "  '60': '2',\n",
       "  '61': '2',\n",
       "  '62': '1',\n",
       "  '63': '1',\n",
       "  '64': '1',\n",
       "  '65': '0',\n",
       "  '66': '1',\n",
       "  '67': '0',\n",
       "  '68': '0',\n",
       "  '69': '1',\n",
       "  '70': '1',\n",
       "  '71': '0',\n",
       "  '72': '0',\n",
       "  '73': '2',\n",
       "  '74': '2',\n",
       "  '75': '1',\n",
       "  '76': '0',\n",
       "  '77': '1',\n",
       "  '78': '0',\n",
       "  '79': '0',\n",
       "  '80': '2',\n",
       "  '81': '3',\n",
       "  '82': '0',\n",
       "  '83': '5',\n",
       "  '84': '0',\n",
       "  '85': '2',\n",
       "  '86': '2',\n",
       "  '87': '2',\n",
       "  '88': '3',\n",
       "  '89': '2',\n",
       "  '90': '0',\n",
       "  '91': '1',\n",
       "  '92': '1',\n",
       "  '93': '2',\n",
       "  '94': '0',\n",
       "  '95': '2',\n",
       "  '96': '2',\n",
       "  '97': '1',\n",
       "  '98': '1',\n",
       "  '99': '0',\n",
       "  '100': '0',\n",
       "  '101': '0',\n",
       "  '102': '1',\n",
       "  '103': '2',\n",
       "  '104': '7',\n",
       "  '105': '1',\n",
       "  '106': '1',\n",
       "  '107': '0',\n",
       "  '108': '2',\n",
       "  '109': '1',\n",
       "  '110': '2',\n",
       "  '111': '0',\n",
       "  '112': '2',\n",
       "  '113': '1',\n",
       "  '114': '2',\n",
       "  '115': '2',\n",
       "  '116': '2',\n",
       "  '117': '3',\n",
       "  '118': '0',\n",
       "  '119': '1',\n",
       "  '120': '2',\n",
       "  '121': '0',\n",
       "  '122': '1',\n",
       "  '123': '1',\n",
       "  '124': '1',\n",
       "  '125': '1',\n",
       "  '126': '2',\n",
       "  '127': '0',\n",
       "  '128': '1',\n",
       "  '129': '3',\n",
       "  '130': '0',\n",
       "  '131': '0',\n",
       "  '132': '0',\n",
       "  '133': '1',\n",
       "  '134': '1',\n",
       "  '135': '0',\n",
       "  '136': '0',\n",
       "  '137': '0',\n",
       "  '138': '5',\n",
       "  '139': '1',\n",
       "  '140': '0',\n",
       "  '141': '2',\n",
       "  '142': '0',\n",
       "  '143': '1',\n",
       "  '144': '2',\n",
       "  '145': '1',\n",
       "  '146': '4',\n",
       "  '147': '1',\n",
       "  '148': '1',\n",
       "  '149': '2',\n",
       "  '150': '5',\n",
       "  '151': '2',\n",
       "  '152': '1',\n",
       "  '153': '3',\n",
       "  '154': '1',\n",
       "  '155': '1',\n",
       "  '156': '1',\n",
       "  '157': '2',\n",
       "  '158': '1',\n",
       "  '159': '3',\n",
       "  '160': '3',\n",
       "  '161': '0',\n",
       "  '162': '2',\n",
       "  '163': '0',\n",
       "  '164': '0',\n",
       "  '165': '1',\n",
       "  '166': '1',\n",
       "  '167': '1',\n",
       "  '168': '0',\n",
       "  '169': '3',\n",
       "  '170': '2',\n",
       "  '171': '0',\n",
       "  '172': '1',\n",
       "  '173': '3',\n",
       "  '174': '1',\n",
       "  '175': '1',\n",
       "  '176': '1',\n",
       "  '177': '2',\n",
       "  '178': '1',\n",
       "  '179': '1',\n",
       "  '180': '1',\n",
       "  '181': '3',\n",
       "  '182': '6',\n",
       "  '183': '0',\n",
       "  '184': '4',\n",
       "  '185': '0',\n",
       "  '186': '1',\n",
       "  '187': '2',\n",
       "  '188': '2',\n",
       "  '189': '2',\n",
       "  '190': '1',\n",
       "  '191': '1',\n",
       "  '192': '0',\n",
       "  '193': '2',\n",
       "  '194': '1',\n",
       "  '195': '1',\n",
       "  '196': '1',\n",
       "  '197': '0',\n",
       "  '198': '1',\n",
       "  '199': '1',\n",
       "  '200': '1',\n",
       "  '201': '0',\n",
       "  '202': '2',\n",
       "  '203': '1',\n",
       "  '204': '20',\n",
       "  '205': '0',\n",
       "  '206': '1',\n",
       "  '207': '4',\n",
       "  '208': '0',\n",
       "  '209': '7',\n",
       "  '210': '1',\n",
       "  '211': '0',\n",
       "  '212': '1',\n",
       "  '213': '0',\n",
       "  '214': '53',\n",
       "  '215': '0',\n",
       "  '216': '0',\n",
       "  '217': '3',\n",
       "  '218': '6',\n",
       "  '219': '0',\n",
       "  '220': '6',\n",
       "  '221': '1',\n",
       "  '222': '0',\n",
       "  '223': '2',\n",
       "  '224': '2',\n",
       "  '225': '5',\n",
       "  '226': '1',\n",
       "  '227': '3',\n",
       "  '228': '1',\n",
       "  '229': '1',\n",
       "  '230': '1',\n",
       "  '231': '1',\n",
       "  '232': '2',\n",
       "  '233': '1',\n",
       "  '234': '0',\n",
       "  '235': '0',\n",
       "  '236': '1',\n",
       "  '237': '3',\n",
       "  '238': '2',\n",
       "  '239': '1',\n",
       "  '240': '1',\n",
       "  '241': '0',\n",
       "  '242': '1',\n",
       "  '243': '1',\n",
       "  '244': '1',\n",
       "  '245': '1',\n",
       "  '246': '1',\n",
       "  '247': '8',\n",
       "  '248': '1',\n",
       "  '249': '0',\n",
       "  '250': '1',\n",
       "  '251': '1',\n",
       "  '252': '1',\n",
       "  '253': '1',\n",
       "  '254': '2',\n",
       "  '255': '3'}}"
      ]
     },
     "execution_count": 11,
     "metadata": {},
     "output_type": "execute_result"
    }
   ],
   "source": [
    "if response.ok:             \n",
    "    data = response.json()\n",
    "data"
   ]
  },
  {
   "cell_type": "markdown",
   "metadata": {},
   "source": [
    "Write a function to get the number of jobs for the given technology.<br>\n",
    "*Note:* The API gives a maximum of 50 jobs per page.<br>\n",
    "If you get 50 jobs per page, it means there could be some more job listings available.<br>\n",
    "So if you get 50 jobs per page you should make another API call for next page to check for more jobs.<br>\n",
    "If you get less than 50 jobs per page, you can take it as the final count.<br>\n"
   ]
  },
  {
   "cell_type": "code",
   "execution_count": 12,
   "metadata": {},
   "outputs": [],
   "source": [
    "def get_number_of_jobs(technology):\n",
    "    number_of_jobs = 0\n",
    "    payload={\"description\":technology,\"page\":1}\n",
    "    r=requests.get(baseurl,params=payload)\n",
    "    if r.ok:             # if all is well() no errors, no network timeouts)\n",
    "        data = r.json()\n",
    "        while len(data) == 50:\n",
    "            payload['page'] = payload['page'] + 1\n",
    "            r=requests.get(baseurl,params=payload)\n",
    "            if response.ok:\n",
    "                data = r.json()\n",
    "                number_of_jobs += len(data)\n",
    "        else:\n",
    "            number_of_jobs += len(data)  \n",
    "            \n",
    "    return technology,number_of_jobs"
   ]
  },
  {
   "cell_type": "markdown",
   "metadata": {},
   "source": [
    "Call the function for Python and check if it is working.\n"
   ]
  },
  {
   "cell_type": "code",
   "execution_count": 13,
   "metadata": {},
   "outputs": [
    {
     "name": "stdout",
     "output_type": "stream",
     "text": [
      "('java', 2)\n"
     ]
    }
   ],
   "source": [
    "print(get_number_of_jobs('java'))"
   ]
  },
  {
   "cell_type": "markdown",
   "metadata": {},
   "source": [
    "### Store the results in an excel file\n"
   ]
  },
  {
   "cell_type": "markdown",
   "metadata": {},
   "source": [
    "Call the API for all the given technologies above and write the results in an excel spreadsheet.\n"
   ]
  },
  {
   "cell_type": "markdown",
   "metadata": {},
   "source": [
    "If you do not know how create excel file using python, double click here for **hints**.\n",
    "\n",
    "<!--\n",
    "\n",
    "from openpyxl import Workbook        # import Workbook class from module openpyxl\n",
    "wb=Workbook()                        # create a workbook object\n",
    "ws=wb.active                         # use the active worksheet\n",
    "ws.append(['Country','Continent'])   # add a row with two columns 'Country' and 'Continent'\n",
    "ws.append(['Eygpt','Africa'])        # add a row with two columns 'Egypt' and 'Africa'\n",
    "ws.append(['India','Asia'])          # add another row\n",
    "ws.append(['France','Europe'])       # add another row\n",
    "wb.save(\"countries.xlsx\")            # save the workbook into a file called countries.xlsx\n",
    "\n",
    "\n",
    "-->\n"
   ]
  },
  {
   "cell_type": "markdown",
   "metadata": {},
   "source": [
    "Create a python list of all technologies for which you need to find the number of jobs postings.\n"
   ]
  },
  {
   "cell_type": "code",
   "execution_count": 14,
   "metadata": {},
   "outputs": [
    {
     "data": {
      "text/plain": [
       "['C',\n",
       " 'C#',\n",
       " 'C++',\n",
       " 'Java',\n",
       " 'JavaScript',\n",
       " 'Python',\n",
       " 'Scala',\n",
       " 'Oracle',\n",
       " 'SQL Server',\n",
       " 'MySQL Server',\n",
       " 'PostgreSQL',\n",
       " 'MongoDB']"
      ]
     },
     "execution_count": 14,
     "metadata": {},
     "output_type": "execute_result"
    }
   ],
   "source": [
    "tech_list=['C','C#','C++','Java','JavaScript','Python','Scala','Oracle','SQL Server','MySQL Server','PostgreSQL','MongoDB']\n",
    "tech_list"
   ]
  },
  {
   "cell_type": "markdown",
   "metadata": {},
   "source": [
    "Import libraries required to create excel spreadsheet\n"
   ]
  },
  {
   "cell_type": "code",
   "execution_count": 15,
   "metadata": {},
   "outputs": [
    {
     "name": "stdout",
     "output_type": "stream",
     "text": [
      "Collecting openpyxl\n",
      "  Downloading openpyxl-3.0.10-py2.py3-none-any.whl (242 kB)\n",
      "\u001b[2K     \u001b[90m━━━━━━━━━━━━━━━━━━━━━━━━━━━━━━━━━━━━━━\u001b[0m \u001b[32m242.1/242.1 kB\u001b[0m \u001b[31m28.2 MB/s\u001b[0m eta \u001b[36m0:00:00\u001b[0m\n",
      "\u001b[?25hCollecting et-xmlfile\n",
      "  Downloading et_xmlfile-1.1.0-py3-none-any.whl (4.7 kB)\n",
      "Installing collected packages: et-xmlfile, openpyxl\n",
      "Successfully installed et-xmlfile-1.1.0 openpyxl-3.0.10\n"
     ]
    }
   ],
   "source": [
    "!pip install openpyxl"
   ]
  },
  {
   "cell_type": "code",
   "execution_count": 16,
   "metadata": {},
   "outputs": [],
   "source": [
    "from openpyxl import Workbook"
   ]
  },
  {
   "cell_type": "markdown",
   "metadata": {},
   "source": [
    "Create a workbook and select the active worksheet\n"
   ]
  },
  {
   "cell_type": "code",
   "execution_count": 17,
   "metadata": {},
   "outputs": [],
   "source": [
    "wb=Workbook()                       \n",
    "ws=wb.active                        "
   ]
  },
  {
   "cell_type": "markdown",
   "metadata": {},
   "source": [
    "Find the number of jobs postings for each of the technology in the above list.\n",
    "Write the technology name and the number of jobs postings into the excel spreadsheet.\n"
   ]
  },
  {
   "cell_type": "code",
   "execution_count": 18,
   "metadata": {},
   "outputs": [],
   "source": [
    "ws.append(['Technology','Number_of_Jobs'])\n",
    "\n",
    "for i in tech_list:\n",
    "    ws.append(get_number_of_jobs(i))"
   ]
  },
  {
   "cell_type": "markdown",
   "metadata": {},
   "source": [
    "Save into an excel spreadsheet named 'github-job-postings.xlsx'.\n"
   ]
  },
  {
   "cell_type": "code",
   "execution_count": 19,
   "metadata": {},
   "outputs": [],
   "source": [
    "wb.save(\"github-job-postings.xlsx\")"
   ]
  },
  {
   "cell_type": "code",
   "execution_count": 20,
   "metadata": {},
   "outputs": [
    {
     "data": {
      "text/html": [
       "<div>\n",
       "<style scoped>\n",
       "    .dataframe tbody tr th:only-of-type {\n",
       "        vertical-align: middle;\n",
       "    }\n",
       "\n",
       "    .dataframe tbody tr th {\n",
       "        vertical-align: top;\n",
       "    }\n",
       "\n",
       "    .dataframe thead th {\n",
       "        text-align: right;\n",
       "    }\n",
       "</style>\n",
       "<table border=\"1\" class=\"dataframe\">\n",
       "  <thead>\n",
       "    <tr style=\"text-align: right;\">\n",
       "      <th></th>\n",
       "      <th>Technology</th>\n",
       "      <th>Number_of_Jobs</th>\n",
       "    </tr>\n",
       "  </thead>\n",
       "  <tbody>\n",
       "    <tr>\n",
       "      <th>0</th>\n",
       "      <td>C</td>\n",
       "      <td>2</td>\n",
       "    </tr>\n",
       "    <tr>\n",
       "      <th>1</th>\n",
       "      <td>C#</td>\n",
       "      <td>2</td>\n",
       "    </tr>\n",
       "    <tr>\n",
       "      <th>2</th>\n",
       "      <td>C++</td>\n",
       "      <td>2</td>\n",
       "    </tr>\n",
       "    <tr>\n",
       "      <th>3</th>\n",
       "      <td>Java</td>\n",
       "      <td>2</td>\n",
       "    </tr>\n",
       "    <tr>\n",
       "      <th>4</th>\n",
       "      <td>JavaScript</td>\n",
       "      <td>2</td>\n",
       "    </tr>\n",
       "    <tr>\n",
       "      <th>5</th>\n",
       "      <td>Python</td>\n",
       "      <td>2</td>\n",
       "    </tr>\n",
       "    <tr>\n",
       "      <th>6</th>\n",
       "      <td>Scala</td>\n",
       "      <td>2</td>\n",
       "    </tr>\n",
       "    <tr>\n",
       "      <th>7</th>\n",
       "      <td>Oracle</td>\n",
       "      <td>2</td>\n",
       "    </tr>\n",
       "    <tr>\n",
       "      <th>8</th>\n",
       "      <td>SQL Server</td>\n",
       "      <td>2</td>\n",
       "    </tr>\n",
       "    <tr>\n",
       "      <th>9</th>\n",
       "      <td>MySQL Server</td>\n",
       "      <td>2</td>\n",
       "    </tr>\n",
       "    <tr>\n",
       "      <th>10</th>\n",
       "      <td>PostgreSQL</td>\n",
       "      <td>2</td>\n",
       "    </tr>\n",
       "    <tr>\n",
       "      <th>11</th>\n",
       "      <td>MongoDB</td>\n",
       "      <td>2</td>\n",
       "    </tr>\n",
       "  </tbody>\n",
       "</table>\n",
       "</div>"
      ],
      "text/plain": [
       "      Technology  Number_of_Jobs\n",
       "0              C               2\n",
       "1             C#               2\n",
       "2            C++               2\n",
       "3           Java               2\n",
       "4     JavaScript               2\n",
       "5         Python               2\n",
       "6          Scala               2\n",
       "7         Oracle               2\n",
       "8     SQL Server               2\n",
       "9   MySQL Server               2\n",
       "10    PostgreSQL               2\n",
       "11       MongoDB               2"
      ]
     },
     "execution_count": 20,
     "metadata": {},
     "output_type": "execute_result"
    }
   ],
   "source": [
    "job_data = pd.read_excel(\"github-job-postings.xlsx\")\n",
    "job_data"
   ]
  },
  {
   "cell_type": "markdown",
   "metadata": {},
   "source": [
    "## Authors\n"
   ]
  },
  {
   "cell_type": "markdown",
   "metadata": {},
   "source": [
    "Ramesh Sannareddy\n"
   ]
  },
  {
   "cell_type": "markdown",
   "metadata": {},
   "source": [
    "### Other Contributors\n"
   ]
  },
  {
   "cell_type": "markdown",
   "metadata": {},
   "source": [
    "Rav Ahuja\n"
   ]
  },
  {
   "cell_type": "markdown",
   "metadata": {},
   "source": [
    "## Change Log\n"
   ]
  },
  {
   "cell_type": "markdown",
   "metadata": {},
   "source": [
    "| Date (YYYY-MM-DD) | Version | Changed By        | Change Description                 |\n",
    "| ----------------- | ------- | ----------------- | ---------------------------------- |\n",
    "| 2021-6-25         | 0.2     | Malika            | Updated GitHub job json link       |\n",
    "| 2020-10-17        | 0.1     | Ramesh Sannareddy | Created initial version of the lab |\n"
   ]
  },
  {
   "cell_type": "markdown",
   "metadata": {},
   "source": [
    "Copyright © 2020 IBM Corporation. This notebook and its source code are released under the terms of the [MIT License](https://cognitiveclass.ai/mit-license?utm_medium=Exinfluencer\\&utm_source=Exinfluencer\\&utm_content=000026UJ\\&utm_term=10006555\\&utm_id=NA-SkillsNetwork-Channel-SkillsNetworkCoursesIBMDA0321ENSkillsNetwork21426264-2021-01-01\\&cm_mmc=Email_Newsletter-\\_-Developer_Ed%2BTech-\\_-WW_WW-\\_-SkillsNetwork-Courses-IBM-DA0321EN-SkillsNetwork-21426264\\&cm_mmca1=000026UJ\\&cm_mmca2=10006555\\&cm_mmca3=M12345678\\&cvosrc=email.Newsletter.M12345678\\&cvo_campaign=000026UJ).\n"
   ]
  }
 ],
 "metadata": {
  "kernelspec": {
   "display_name": "Python",
   "language": "python",
   "name": "conda-env-python-py"
  },
  "language_info": {
   "codemirror_mode": {
    "name": "ipython",
    "version": 3
   },
   "file_extension": ".py",
   "mimetype": "text/x-python",
   "name": "python",
   "nbconvert_exporter": "python",
   "pygments_lexer": "ipython3",
   "version": "3.7.12"
  }
 },
 "nbformat": 4,
 "nbformat_minor": 4
}
